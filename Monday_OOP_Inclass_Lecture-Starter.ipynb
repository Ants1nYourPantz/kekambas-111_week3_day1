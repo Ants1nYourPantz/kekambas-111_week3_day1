{
 "cells": [
  {
   "cell_type": "markdown",
   "metadata": {},
   "source": [
    "# Object-Oriented-Programming (OOP)"
   ]
  },
  {
   "cell_type": "markdown",
   "metadata": {},
   "source": [
    "## Tasks Today:\n",
    "\n",
    "   \n",
    "\n",
    "1) <b>Creating a Class (Initializing/Declaring)</b> <br>\n",
    "2) <b>Using a Class (Instantiating)</b> <br>\n",
    " &nbsp;&nbsp;&nbsp;&nbsp; a) Creating One Instance <br>\n",
    " &nbsp;&nbsp;&nbsp;&nbsp; b) Creating Multiple Instances <br>\n",
    " &nbsp;&nbsp;&nbsp;&nbsp; c) In-Class Exercise #1 - Create a Class 'Car' and instantiate three different makes of cars <br>\n",
    "3) <b>The \\__init\\__() Method</b> <br>\n",
    " &nbsp;&nbsp;&nbsp;&nbsp; a) The 'self' Attribute <br>\n",
    "4) <b>Class Attributes</b> <br>\n",
    " &nbsp;&nbsp;&nbsp;&nbsp; a) Initializing Attributes <br>\n",
    " &nbsp;&nbsp;&nbsp;&nbsp; b) Setting an Attribute Outside of the \\__init\\__() Method <br>\n",
    " &nbsp;&nbsp;&nbsp;&nbsp; c) Setting Defaults for Attributes <br>\n",
    " &nbsp;&nbsp;&nbsp;&nbsp; d) Accessing Class Attributes <br>\n",
    " &nbsp;&nbsp;&nbsp;&nbsp; e) Changing Class Attributes <br>\n",
    " &nbsp;&nbsp;&nbsp;&nbsp; f) In-Class Exercise #2 - Update your 'Car' class with \\__init\\__() method and class attributes<br>\n",
    "5) <b>Class Methods</b> <br>\n",
    " &nbsp;&nbsp;&nbsp;&nbsp; a) Creating <br>\n",
    " &nbsp;&nbsp;&nbsp;&nbsp; b) Calling <br>\n",
    " &nbsp;&nbsp;&nbsp;&nbsp; c) Modifying an Attribute's Value Through a Method <br>\n",
    " &nbsp;&nbsp;&nbsp;&nbsp; d) Incrementing an Attribute's Value Through a Method <br>\n",
    " &nbsp;&nbsp;&nbsp;&nbsp; e) In-Class Exercise #3 - Update Car class with new methods <br>\n",
    "6) <b>Classes as Attributes</b> <br>\n",
    "8) <b>Exercises</b> <br>\n",
    " &nbsp;&nbsp;&nbsp;&nbsp; a) Exercise #1 - Turn the shopping cart program from yesterday into an object-oriented program <br>\n",
    "  &nbsp;&nbsp;&nbsp;&nbsp; a) Exercise #2 - Create an Animal class with Eat, Sleep, and Play methods <br>"
   ]
  },
  {
   "cell_type": "code",
   "execution_count": null,
   "metadata": {},
   "outputs": [],
   "source": []
  },
  {
   "cell_type": "markdown",
   "metadata": {},
   "source": [
    "#### Object-Oriented Programming"
   ]
  },
  {
   "cell_type": "markdown",
   "metadata": {},
   "source": [
    "Object-Oriented Programming (OOP) allows us to create programs so that that properties and behaviors are bundled into **objects**. OOP models real-world entities as software objects that have some data associated with them and can perform certain functions."
   ]
  },
  {
   "cell_type": "markdown",
   "metadata": {},
   "source": [
    "## Creating a Class (Initializing/Declaring)\n",
    "<p>When creating a class, function, or even a variable you are initializing that object. Initializing and Declaring occur at the same time in Python, whereas in lower level languages you have to declare an object before initializing it. This is the first step in the process of using a class.</p>"
   ]
  },
  {
   "cell_type": "code",
   "execution_count": null,
   "metadata": {},
   "outputs": [],
   "source": []
  },
  {
   "cell_type": "markdown",
   "metadata": {},
   "source": [
    "## Using a Class (Instantiating)\n",
    "<p>The process of creating a class is called <i>Instantiating</i>. Each time you create a variable of that type of class, it is referred to as an <i>Instance</i> of that class. This is the second step in the process of using a class.</p>"
   ]
  },
  {
   "cell_type": "code",
   "execution_count": null,
   "metadata": {},
   "outputs": [],
   "source": []
  },
  {
   "cell_type": "markdown",
   "metadata": {},
   "source": [
    "##### Creating One Instance"
   ]
  },
  {
   "cell_type": "code",
   "execution_count": null,
   "metadata": {},
   "outputs": [],
   "source": []
  },
  {
   "cell_type": "markdown",
   "metadata": {},
   "source": [
    "##### Creating Multiple Instances"
   ]
  },
  {
   "cell_type": "code",
   "execution_count": null,
   "metadata": {},
   "outputs": [],
   "source": []
  },
  {
   "cell_type": "markdown",
   "metadata": {},
   "source": [
    "##### Adding attributes to instances"
   ]
  },
  {
   "cell_type": "code",
   "execution_count": null,
   "metadata": {},
   "outputs": [],
   "source": []
  },
  {
   "cell_type": "markdown",
   "metadata": {},
   "source": [
    "##### In-Class Exercise #1 - Create a Class 'Car' and Instantiate three different car instances. Add a different make for each car."
   ]
  },
  {
   "cell_type": "code",
   "execution_count": null,
   "metadata": {},
   "outputs": [],
   "source": []
  },
  {
   "cell_type": "markdown",
   "metadata": {},
   "source": [
    "## The \\__init\\__() Method <br>\n",
    "<p>This method is used in almost every created class, and called only once upon the creation of the class instance. This method will initialize all variables needed for the object.</p>"
   ]
  },
  {
   "cell_type": "markdown",
   "metadata": {},
   "source": [
    "##### The 'self' Attribute <br>\n",
    "<p>This attribute is required to keep track of specific instance's attributes. Without the self attribute, the program would not know how to reference or keep track of an instance's attributes.</p>"
   ]
  },
  {
   "cell_type": "code",
   "execution_count": null,
   "metadata": {},
   "outputs": [],
   "source": []
  },
  {
   "cell_type": "code",
   "execution_count": null,
   "metadata": {},
   "outputs": [],
   "source": []
  },
  {
   "cell_type": "code",
   "execution_count": null,
   "metadata": {},
   "outputs": [],
   "source": []
  },
  {
   "cell_type": "markdown",
   "metadata": {},
   "source": [
    "## Class Attributes <br>\n",
    "<p>While variables are inside of a class, they are referred to as attributes and not variables. When someone says 'attribute' you know they're speaking about a class. Attributes can be initialized through the init method, or outside of it.</p>"
   ]
  },
  {
   "cell_type": "markdown",
   "metadata": {},
   "source": [
    "##### Initializing Attributes"
   ]
  },
  {
   "cell_type": "code",
   "execution_count": null,
   "metadata": {},
   "outputs": [],
   "source": []
  },
  {
   "cell_type": "markdown",
   "metadata": {},
   "source": [
    "##### Accessing Class Attributes"
   ]
  },
  {
   "cell_type": "code",
   "execution_count": null,
   "metadata": {
    "scrolled": true
   },
   "outputs": [],
   "source": [
    "# See Above"
   ]
  },
  {
   "cell_type": "markdown",
   "metadata": {},
   "source": [
    "##### Setting Defaults for Attributes"
   ]
  },
  {
   "cell_type": "code",
   "execution_count": null,
   "metadata": {},
   "outputs": [],
   "source": []
  },
  {
   "cell_type": "markdown",
   "metadata": {},
   "source": [
    "##### Changing Class Attributes <br>\n",
    "<p>Keep in mind there are global class attributes and then there are attributes only available to each class instance which won't effect other classes.</p>"
   ]
  },
  {
   "cell_type": "code",
   "execution_count": null,
   "metadata": {},
   "outputs": [],
   "source": []
  },
  {
   "cell_type": "code",
   "execution_count": null,
   "metadata": {},
   "outputs": [],
   "source": []
  },
  {
   "cell_type": "code",
   "execution_count": null,
   "metadata": {},
   "outputs": [],
   "source": []
  },
  {
   "cell_type": "markdown",
   "metadata": {},
   "source": [
    "##### In-Class Exercise 2 - Create an \\__init__ method for your Car class which takes in color and model with a default value for gas_level of 100. Your class should also have a class attribute for model. Once you have created the class, instantiate 3 different cars"
   ]
  },
  {
   "cell_type": "code",
   "execution_count": null,
   "metadata": {},
   "outputs": [],
   "source": []
  },
  {
   "cell_type": "markdown",
   "metadata": {},
   "source": [
    "## Class Methods <br>\n",
    "<p>While inside of a class, functions are referred to as 'methods'. If you hear someone mention methods, they're speaking about classes. Methods are essentially functions, but only callable on the instances of a class.</p>"
   ]
  },
  {
   "cell_type": "markdown",
   "metadata": {},
   "source": [
    "##### Creating"
   ]
  },
  {
   "cell_type": "code",
   "execution_count": null,
   "metadata": {},
   "outputs": [],
   "source": []
  },
  {
   "cell_type": "code",
   "execution_count": null,
   "metadata": {},
   "outputs": [],
   "source": []
  },
  {
   "cell_type": "markdown",
   "metadata": {},
   "source": [
    "##### Calling"
   ]
  },
  {
   "cell_type": "code",
   "execution_count": null,
   "metadata": {},
   "outputs": [],
   "source": []
  },
  {
   "cell_type": "markdown",
   "metadata": {},
   "source": [
    "##### Modifying an Attribute's Value Through a Method"
   ]
  },
  {
   "cell_type": "code",
   "execution_count": null,
   "metadata": {},
   "outputs": [],
   "source": []
  },
  {
   "cell_type": "code",
   "execution_count": null,
   "metadata": {},
   "outputs": [],
   "source": []
  },
  {
   "cell_type": "markdown",
   "metadata": {},
   "source": [
    "##### Incrementing an Attribute's Value Through a Method"
   ]
  },
  {
   "cell_type": "code",
   "execution_count": null,
   "metadata": {},
   "outputs": [],
   "source": []
  },
  {
   "cell_type": "markdown",
   "metadata": {},
   "source": [
    "##### In-Class Exercise #3 - Add two methods to your car class. One method called `drive` that will take in the number of miles and decrease that car's `gas_level` by 1 unit for every 5 miles. Another method called `fill_up` will take in gallons and increase the `gas_level` by 10 units for every gallon."
   ]
  },
  {
   "cell_type": "code",
   "execution_count": null,
   "metadata": {},
   "outputs": [],
   "source": []
  },
  {
   "cell_type": "markdown",
   "metadata": {},
   "source": [
    "## Classes as Attributes <br>\n",
    "<p>Classes can also be used as attributes within another class. This is useful in situations where you need to keep variables locally stored, instead of globally stored.</p>"
   ]
  },
  {
   "cell_type": "code",
   "execution_count": null,
   "metadata": {},
   "outputs": [],
   "source": []
  },
  {
   "cell_type": "code",
   "execution_count": null,
   "metadata": {},
   "outputs": [],
   "source": []
  },
  {
   "cell_type": "code",
   "execution_count": null,
   "metadata": {},
   "outputs": [],
   "source": []
  },
  {
   "cell_type": "markdown",
   "metadata": {},
   "source": [
    "# Exercises"
   ]
  },
  {
   "cell_type": "markdown",
   "metadata": {},
   "source": [
    "### Exercise 1 - Turn the shopping cart program into an object-oriented program"
   ]
  },
  {
   "cell_type": "code",
   "execution_count": null,
   "metadata": {},
   "outputs": [],
   "source": [
    "# Create a class called cart that retains items and has methods to add, remove, and show\n",
    "\n",
    "class Cart():\n",
    "    def __init__(self, customer_name):\n",
    "        self.customer_name = customer_name\n",
    "        self.cart = []\n",
    "        \n",
    "    def add_to_cart(self):\n",
    "        item = input(\"What would you like to add to your cart? \")\n",
    "        self.cart.append(item)\n",
    "        print(f'A {item} has been added to your cart.')\n",
    "        print(self.cart)\n",
    "        \n",
    "    def remove_from_cart(self):\n",
    "        item_to_remove = input(\"Which item would you like to remove? \")\n",
    "        if item_to_remove in self.cart:\n",
    "            how_many = input(\"How many would you like to remove? \")\n",
    "        while not how_many.isdigit():\n",
    "            how_many = input(\"Invalid response please enter a digit. \")\n",
    "            for _ in range(int(how_many)):\n",
    "                self.cart.remove(item_to_remove)\n",
    "        else:\n",
    "            print(f\"{item_to_remove} is not in your cart. \")\n",
    "        \n",
    "    def show_cart(self):\n",
    "        item_count = {}\n",
    "        for item in self.cart:\n",
    "            if item in item_count:\n",
    "                item_count[item] += 1\n",
    "            else:\n",
    "                item_count[item] = 1\n",
    "                \n",
    "        for item, quantity in item_count.items():\n",
    "            print(f\"{quantity} {item}(s)\")\n",
    "    \n",
    "class Product:\n",
    "    def __init__(self, name, quantity, price):\n",
    "        self.name = name\n",
    "        self.quantity = quantity\n",
    "        self.price = price\n",
    "        \n",
    "    def get_product_total(self):\n",
    "        return self.quantity * self.price\n",
    "    \n",
    "    \n",
    "def run():\n",
    "    cust_name = input('Welcome. What is your name? ')\n",
    "    my_cart = Cart(cust_name)\n",
    "    \n",
    "    \n",
    "    while True:\n",
    "        ask = input('What would you like to do? Add/Remove/Show/Quit ').lower()\n",
    "        if ask == 'quit':\n",
    "            break\n",
    "        elif ask == 'add':\n",
    "            my_cart.add_to_cart()\n",
    "        elif ask == \"show\":\n",
    "            my_cart.show_cart()\n",
    "        elif ask == \"remove\":\n",
    "            my_cart.remove_from_cart()\n",
    "        else:\n",
    "            print(\"Invalid response. \")\n",
    "         \n",
    "            \n",
    "run()\n",
    "    "
   ]
  },
  {
   "cell_type": "code",
   "execution_count": null,
   "metadata": {},
   "outputs": [],
   "source": [
    "class Cart():\n",
    "    def __init__(self, customer_name):\n",
    "        self.customer_name = customer_name\n",
    "        self.cart = []\n",
    "        \n",
    "    def add_to_cart(self):\n",
    "        item = input('What would you like to add? ').title()\n",
    "        self.cart.append(item)\n",
    "        print(f\"1 {item} has been added to your cart\")\n",
    "        print(self.cart)\n",
    "    \n",
    "    def remove_from_cart(self):\n",
    "        self.show_cart()\n",
    "        item_to_remove = input('Which item would you like to remove from your cart? ').title()\n",
    "        while item_to_remove not in self.cart:\n",
    "            print(f\"{item_to_remove} is not in your cart.\")\n",
    "            item_to_remove = input('Which item would you like to remove from your cart? ').title()\n",
    "        how_many = input(f'How many {item_to_remove}s would you like to remove? ')\n",
    "        while not how_many.isdigit():\n",
    "            how_many = input(\"Invalid response. Please enter a digit. e.g. 5 instead of five\")\n",
    "        if int(how_many) > self.cart.count(item_to_remove):\n",
    "            how_many = self.cart.count(item_to_remove)\n",
    "        for _ in range(int(how_many)):\n",
    "            self.cart.remove(item_to_remove)\n",
    "        print(f\"{how_many} {item_to_remove}s have been removed from your cart.\")\n",
    "        \n",
    "    \n",
    "    def show_cart(self, checkout=False):\n",
    "        item_count = {}\n",
    "        for item in self.cart:\n",
    "            if item in item_count:\n",
    "                item_count[item] += 1\n",
    "            else:\n",
    "                item_count[item] = 1\n",
    "        if not checkout:\n",
    "            print('Here is your current cart:')\n",
    "        else:\n",
    "            print(f\"Thank you for shopping with us today {self.customer_name}. Here is your final cart:\")\n",
    "        for item, quantity in item_count.items():\n",
    "            print(f\"{quantity} {item}(s)\")\n",
    "                     \n",
    "​\n",
    "    \n",
    "def run():\n",
    "    cust_name = input('Welcome. What is your name? ')\n",
    "    my_cart = Cart(cust_name)\n",
    "    while True:\n",
    "        ask = input('What would you like to do? Add/Remove/Show/Quit ').lower()\n",
    "        if ask == 'quit':\n",
    "            break\n",
    "        elif ask == 'add':\n",
    "            my_cart.add_to_cart()\n",
    "        elif ask == 'show':\n",
    "            my_cart.show_cart()\n",
    "        elif ask == 'remove':\n",
    "            my_cart.remove_from_cart()\n",
    "        else:\n",
    "            print('Invalid response.')\n",
    "    \n",
    "    my_cart.show_cart(True)        \n",
    "            \n",
    "            \n",
    "    \n",
    "run()"
   ]
  },
  {
   "cell_type": "code",
   "execution_count": null,
   "metadata": {},
   "outputs": [],
   "source": [
    "def run():\n",
    "    print(\"Hello, welcome to your online shopping portal.\")\n",
    "    cart = {}\n",
    "    while True:\n",
    "        response = 0\n",
    "        response = input(\"What would you like to do? Add/Remove/Cart/Quit \").lower()\n",
    "        if response == \"add\":\n",
    "            item = input(\"What item would you like to add to your cart? \").lower()\n",
    "            quantity = float(input(f\"How many {item.title()} would you like? \"))\n",
    "            price = float(input(f\"How much does each {item.title()} cost ? \"))\n",
    "            cart[item] = price * quantity\n",
    "            print(cart)\n",
    "        elif response == \"remove\":\n",
    "            deleted_items = input(\"What item would you like to remove from your cart? \").lower()\n",
    "            del cart[item]\n",
    "        elif response == \"cart\":\n",
    "            print(cart)\n",
    "        elif response == \"quit\":\n",
    "            quit = input(\"Are you sure you would like to end? Y/N \").lower()\n",
    "            if quit == \"y\":\n",
    "                total = sum(cart.values())\n",
    "                print(\"Your total is: $\", total)\n",
    "                break       \n",
    "    return cart\n",
    "run()"
   ]
  },
  {
   "cell_type": "markdown",
   "metadata": {},
   "source": [
    "### Exercise 2 - Write a Python class for an Animal that has a name and energy attributes. The animal class should also have methods for eat, sleep, and play that will take in an integer and increase/decrease the energy of the animal with a formatted print statement"
   ]
  },
  {
   "cell_type": "code",
   "execution_count": null,
   "metadata": {},
   "outputs": [],
   "source": [
    "class Animal:\n",
    "    \n",
    "    def __init__(self, name, energy):\n",
    "        self.name = name\n",
    "        self.energy = energy\n",
    "        \n",
    "    def eat(self, food):\n",
    "        self.energy += food\n",
    "        print(f'{self.name.title()} ate {food} and his energy is now at {self.energy}.')\n",
    "        \n",
    "    def sleep(self, minutes):\n",
    "        self.energy += minutes\n",
    "        print(f'{self.name.title()} has slept for {minutes} increasing his energy to {self.energy}.')\n",
    "        \n",
    "    def play(self, play_time):\n",
    "        self.energy -= play_time\n",
    "        print(f'{self.name.title()} has been playing and his energy level is now {self.energy}.')\n",
    "        \n",
    "buddy = Animal(\"Jerry\", 100)\n",
    "\n",
    "buddy.play(90)\n",
    "\n",
    "\n",
    "# why can you not put the self.' ' = ?\n",
    "\n",
    "# Example 1\n",
    "# buddy = Animal('Buddy', 10)\n",
    "# buddy.play(5) -> \"Buddy is playing for 5 minutes. His energy is now 5\"\n",
    "# buddy.sleep(10) -> \"Buddy is sleeping for 5 minutes. His energy is now 15\""
   ]
  },
  {
   "cell_type": "code",
   "execution_count": null,
   "metadata": {},
   "outputs": [],
   "source": []
  }
 ],
 "metadata": {
  "kernelspec": {
   "display_name": "Python 3 (ipykernel)",
   "language": "python",
   "name": "python3"
  },
  "language_info": {
   "codemirror_mode": {
    "name": "ipython",
    "version": 3
   },
   "file_extension": ".py",
   "mimetype": "text/x-python",
   "name": "python",
   "nbconvert_exporter": "python",
   "pygments_lexer": "ipython3",
   "version": "3.9.13"
  }
 },
 "nbformat": 4,
 "nbformat_minor": 2
}
